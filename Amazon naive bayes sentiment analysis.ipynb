{
 "cells": [
  {
   "cell_type": "code",
   "execution_count": 65,
   "id": "3f83a8d9",
   "metadata": {},
   "outputs": [],
   "source": [
    "import pandas as pd\n",
    "import numpy as np\n",
    "import matplotlib.pyplot as plt\n",
    "%matplotlib inline\n",
    "import warnings\n",
    "warnings.filterwarnings(\"ignore\")\n",
    "import seaborn as sns"
   ]
  },
  {
   "cell_type": "code",
   "execution_count": 66,
   "id": "e1346289",
   "metadata": {},
   "outputs": [
    {
     "name": "stderr",
     "output_type": "stream",
     "text": [
      "b'Skipping line 10437: expected 15 fields, saw 22\\nSkipping line 10443: expected 15 fields, saw 22\\nSkipping line 19872: expected 15 fields, saw 22\\nSkipping line 20055: expected 15 fields, saw 22\\nSkipping line 20107: expected 15 fields, saw 22\\nSkipping line 20167: expected 15 fields, saw 22\\nSkipping line 53858: expected 15 fields, saw 22\\n'\n",
      "b'Skipping line 72173: expected 15 fields, saw 22\\nSkipping line 84308: expected 15 fields, saw 22\\nSkipping line 92156: expected 15 fields, saw 22\\nSkipping line 97791: expected 15 fields, saw 22\\nSkipping line 106812: expected 15 fields, saw 22\\n'\n",
      "b'Skipping line 138899: expected 15 fields, saw 22\\nSkipping line 145840: expected 15 fields, saw 22\\nSkipping line 192385: expected 15 fields, saw 22\\nSkipping line 194126: expected 15 fields, saw 22\\n'\n",
      "b'Skipping line 222872: expected 15 fields, saw 22\\nSkipping line 236587: expected 15 fields, saw 22\\nSkipping line 245017: expected 15 fields, saw 22\\n'\n",
      "b'Skipping line 273895: expected 15 fields, saw 22\\nSkipping line 302200: expected 15 fields, saw 22\\n'\n",
      "b'Skipping line 390306: expected 15 fields, saw 22\\n'\n",
      "b'Skipping line 395443: expected 15 fields, saw 22\\nSkipping line 399564: expected 15 fields, saw 22\\nSkipping line 435836: expected 15 fields, saw 22\\nSkipping line 436589: expected 15 fields, saw 22\\n'\n",
      "b'Skipping line 477174: expected 15 fields, saw 22\\nSkipping line 502547: expected 15 fields, saw 22\\nSkipping line 514925: expected 15 fields, saw 22\\n'\n",
      "b'Skipping line 533989: expected 15 fields, saw 22\\nSkipping line 534712: expected 15 fields, saw 22\\nSkipping line 545993: expected 15 fields, saw 22\\nSkipping line 574954: expected 15 fields, saw 22\\nSkipping line 576486: expected 15 fields, saw 22\\n'\n",
      "b'Skipping line 604707: expected 15 fields, saw 22\\nSkipping line 613292: expected 15 fields, saw 22\\nSkipping line 622491: expected 15 fields, saw 22\\nSkipping line 648193: expected 15 fields, saw 22\\n'\n",
      "b'Skipping line 686930: expected 15 fields, saw 22\\nSkipping line 691337: expected 15 fields, saw 22\\n'\n",
      "b'Skipping line 728126: expected 15 fields, saw 22\\nSkipping line 728320: expected 15 fields, saw 22\\nSkipping line 746281: expected 15 fields, saw 22\\n'\n",
      "b'Skipping line 831631: expected 15 fields, saw 22\\nSkipping line 849295: expected 15 fields, saw 22\\n'\n",
      "b'Skipping line 888781: expected 15 fields, saw 22\\n'\n",
      "b'Skipping line 962366: expected 15 fields, saw 22\\nSkipping line 976631: expected 15 fields, saw 22\\n'\n",
      "b'Skipping line 983531: expected 15 fields, saw 22\\n'\n",
      "b'Skipping line 1070597: expected 15 fields, saw 22\\n'\n",
      "b'Skipping line 1191390: expected 15 fields, saw 22\\n'\n",
      "b'Skipping line 1258986: expected 15 fields, saw 22\\nSkipping line 1260478: expected 15 fields, saw 22\\n'\n",
      "b'Skipping line 1318010: expected 15 fields, saw 22\\nSkipping line 1375879: expected 15 fields, saw 22\\n'\n",
      "b'Skipping line 1570444: expected 15 fields, saw 22\\n'\n",
      "b'Skipping line 1690885: expected 15 fields, saw 22\\nSkipping line 1699783: expected 15 fields, saw 22\\n'\n",
      "b'Skipping line 1756053: expected 15 fields, saw 22\\n'\n"
     ]
    }
   ],
   "source": [
    "df=pd.read_table(\"amazon_reviews_us_Jewelry_v1_00.tsv\",error_bad_lines=False)"
   ]
  },
  {
   "cell_type": "code",
   "execution_count": 67,
   "id": "80b992db",
   "metadata": {},
   "outputs": [
    {
     "data": {
      "text/html": [
       "<div>\n",
       "<style scoped>\n",
       "    .dataframe tbody tr th:only-of-type {\n",
       "        vertical-align: middle;\n",
       "    }\n",
       "\n",
       "    .dataframe tbody tr th {\n",
       "        vertical-align: top;\n",
       "    }\n",
       "\n",
       "    .dataframe thead th {\n",
       "        text-align: right;\n",
       "    }\n",
       "</style>\n",
       "<table border=\"1\" class=\"dataframe\">\n",
       "  <thead>\n",
       "    <tr style=\"text-align: right;\">\n",
       "      <th></th>\n",
       "      <th>marketplace</th>\n",
       "      <th>customer_id</th>\n",
       "      <th>review_id</th>\n",
       "      <th>product_id</th>\n",
       "      <th>product_parent</th>\n",
       "      <th>product_title</th>\n",
       "      <th>product_category</th>\n",
       "      <th>star_rating</th>\n",
       "      <th>helpful_votes</th>\n",
       "      <th>total_votes</th>\n",
       "      <th>vine</th>\n",
       "      <th>verified_purchase</th>\n",
       "      <th>review_headline</th>\n",
       "      <th>review_body</th>\n",
       "      <th>review_date</th>\n",
       "    </tr>\n",
       "  </thead>\n",
       "  <tbody>\n",
       "    <tr>\n",
       "      <th>0</th>\n",
       "      <td>US</td>\n",
       "      <td>50423057</td>\n",
       "      <td>R135Q3VZ4DQN5N</td>\n",
       "      <td>B00JWXFDMG</td>\n",
       "      <td>657335467</td>\n",
       "      <td>Everbling Purple and Clear Briolette Drop Swar...</td>\n",
       "      <td>Jewelry</td>\n",
       "      <td>5</td>\n",
       "      <td>0.0</td>\n",
       "      <td>0.0</td>\n",
       "      <td>N</td>\n",
       "      <td>Y</td>\n",
       "      <td>Beauties!</td>\n",
       "      <td>so beautiful even tho clearly not high end ......</td>\n",
       "      <td>2015-08-31</td>\n",
       "    </tr>\n",
       "    <tr>\n",
       "      <th>1</th>\n",
       "      <td>US</td>\n",
       "      <td>11262325</td>\n",
       "      <td>R2N0QQ6R4T7YRY</td>\n",
       "      <td>B00W5T1H9W</td>\n",
       "      <td>26030170</td>\n",
       "      <td>925 Sterling Silver Finish 6ct Simulated Diamo...</td>\n",
       "      <td>Jewelry</td>\n",
       "      <td>5</td>\n",
       "      <td>0.0</td>\n",
       "      <td>0.0</td>\n",
       "      <td>N</td>\n",
       "      <td>N</td>\n",
       "      <td>Great product.</td>\n",
       "      <td>Great product.. I got this set for my mother, ...</td>\n",
       "      <td>2015-08-31</td>\n",
       "    </tr>\n",
       "  </tbody>\n",
       "</table>\n",
       "</div>"
      ],
      "text/plain": [
       "  marketplace  customer_id       review_id  product_id  product_parent  \\\n",
       "0          US     50423057  R135Q3VZ4DQN5N  B00JWXFDMG       657335467   \n",
       "1          US     11262325  R2N0QQ6R4T7YRY  B00W5T1H9W        26030170   \n",
       "\n",
       "                                       product_title product_category  \\\n",
       "0  Everbling Purple and Clear Briolette Drop Swar...          Jewelry   \n",
       "1  925 Sterling Silver Finish 6ct Simulated Diamo...          Jewelry   \n",
       "\n",
       "  star_rating  helpful_votes  total_votes vine verified_purchase  \\\n",
       "0           5            0.0          0.0    N                 Y   \n",
       "1           5            0.0          0.0    N                 N   \n",
       "\n",
       "  review_headline                                        review_body  \\\n",
       "0       Beauties!  so beautiful even tho clearly not high end ......   \n",
       "1  Great product.  Great product.. I got this set for my mother, ...   \n",
       "\n",
       "  review_date  \n",
       "0  2015-08-31  \n",
       "1  2015-08-31  "
      ]
     },
     "execution_count": 67,
     "metadata": {},
     "output_type": "execute_result"
    }
   ],
   "source": [
    "df.head(2)"
   ]
  },
  {
   "cell_type": "code",
   "execution_count": 68,
   "id": "fe2b59fb",
   "metadata": {},
   "outputs": [
    {
     "name": "stdout",
     "output_type": "stream",
     "text": [
      "<class 'pandas.core.frame.DataFrame'>\n",
      "Int64Index: 1766748 entries, 0 to 1766991\n",
      "Data columns (total 2 columns):\n",
      " #   Column       Dtype \n",
      "---  ------       ----- \n",
      " 0   star_rating  int32 \n",
      " 1   review_body  object\n",
      "dtypes: int32(1), object(1)\n",
      "memory usage: 33.7+ MB\n"
     ]
    }
   ],
   "source": [
    "df1.info()"
   ]
  },
  {
   "cell_type": "code",
   "execution_count": 69,
   "id": "8724a636",
   "metadata": {},
   "outputs": [],
   "source": [
    "df1=df[[\"star_rating\",\"review_body\"]]"
   ]
  },
  {
   "cell_type": "code",
   "execution_count": 70,
   "id": "8c23a935",
   "metadata": {},
   "outputs": [
    {
     "data": {
      "text/html": [
       "<div>\n",
       "<style scoped>\n",
       "    .dataframe tbody tr th:only-of-type {\n",
       "        vertical-align: middle;\n",
       "    }\n",
       "\n",
       "    .dataframe tbody tr th {\n",
       "        vertical-align: top;\n",
       "    }\n",
       "\n",
       "    .dataframe thead th {\n",
       "        text-align: right;\n",
       "    }\n",
       "</style>\n",
       "<table border=\"1\" class=\"dataframe\">\n",
       "  <thead>\n",
       "    <tr style=\"text-align: right;\">\n",
       "      <th></th>\n",
       "      <th>star_rating</th>\n",
       "      <th>review_body</th>\n",
       "    </tr>\n",
       "  </thead>\n",
       "  <tbody>\n",
       "    <tr>\n",
       "      <th>0</th>\n",
       "      <td>5</td>\n",
       "      <td>so beautiful even tho clearly not high end ......</td>\n",
       "    </tr>\n",
       "    <tr>\n",
       "      <th>1</th>\n",
       "      <td>5</td>\n",
       "      <td>Great product.. I got this set for my mother, ...</td>\n",
       "    </tr>\n",
       "    <tr>\n",
       "      <th>2</th>\n",
       "      <td>5</td>\n",
       "      <td>Exactly as pictured and my daughter's friend l...</td>\n",
       "    </tr>\n",
       "    <tr>\n",
       "      <th>3</th>\n",
       "      <td>5</td>\n",
       "      <td>Love it. Fits great. Super comfortable and nea...</td>\n",
       "    </tr>\n",
       "    <tr>\n",
       "      <th>4</th>\n",
       "      <td>5</td>\n",
       "      <td>Got this as a Mother's Day gift for my Mom and...</td>\n",
       "    </tr>\n",
       "    <tr>\n",
       "      <th>...</th>\n",
       "      <td>...</td>\n",
       "      <td>...</td>\n",
       "    </tr>\n",
       "    <tr>\n",
       "      <th>1766987</th>\n",
       "      <td>4</td>\n",
       "      <td>It is nice looking and everything (it is sterl...</td>\n",
       "    </tr>\n",
       "    <tr>\n",
       "      <th>1766988</th>\n",
       "      <td>4</td>\n",
       "      <td>my boyfriend bought me this last christmas, an...</td>\n",
       "    </tr>\n",
       "    <tr>\n",
       "      <th>1766989</th>\n",
       "      <td>4</td>\n",
       "      <td>This is a great way to quickly start learning ...</td>\n",
       "    </tr>\n",
       "    <tr>\n",
       "      <th>1766990</th>\n",
       "      <td>5</td>\n",
       "      <td>the 14kt gold earrings look remarkable...would...</td>\n",
       "    </tr>\n",
       "    <tr>\n",
       "      <th>1766991</th>\n",
       "      <td>5</td>\n",
       "      <td>It will be a gift to my special friend. We kno...</td>\n",
       "    </tr>\n",
       "  </tbody>\n",
       "</table>\n",
       "<p>1766992 rows × 2 columns</p>\n",
       "</div>"
      ],
      "text/plain": [
       "        star_rating                                        review_body\n",
       "0                 5  so beautiful even tho clearly not high end ......\n",
       "1                 5  Great product.. I got this set for my mother, ...\n",
       "2                 5  Exactly as pictured and my daughter's friend l...\n",
       "3                 5  Love it. Fits great. Super comfortable and nea...\n",
       "4                 5  Got this as a Mother's Day gift for my Mom and...\n",
       "...             ...                                                ...\n",
       "1766987           4  It is nice looking and everything (it is sterl...\n",
       "1766988           4  my boyfriend bought me this last christmas, an...\n",
       "1766989           4  This is a great way to quickly start learning ...\n",
       "1766990           5  the 14kt gold earrings look remarkable...would...\n",
       "1766991           5  It will be a gift to my special friend. We kno...\n",
       "\n",
       "[1766992 rows x 2 columns]"
      ]
     },
     "execution_count": 70,
     "metadata": {},
     "output_type": "execute_result"
    }
   ],
   "source": [
    "df1"
   ]
  },
  {
   "cell_type": "code",
   "execution_count": 71,
   "id": "c643746d",
   "metadata": {},
   "outputs": [
    {
     "data": {
      "text/plain": [
       "star_rating    0.000509\n",
       "review_body    0.013809\n",
       "dtype: float64"
      ]
     },
     "execution_count": 71,
     "metadata": {},
     "output_type": "execute_result"
    }
   ],
   "source": [
    "df1.isnull().sum()/len(df)*100"
   ]
  },
  {
   "cell_type": "code",
   "execution_count": 72,
   "id": "66c67391",
   "metadata": {},
   "outputs": [],
   "source": [
    "df1.dropna(axis=0,inplace=True)"
   ]
  },
  {
   "cell_type": "code",
   "execution_count": null,
   "id": "7d5e1865",
   "metadata": {},
   "outputs": [],
   "source": []
  },
  {
   "cell_type": "markdown",
   "id": "797ee9ea",
   "metadata": {},
   "source": [
    "# DEALING WITH STAR_RATING COLUMN."
   ]
  },
  {
   "cell_type": "code",
   "execution_count": 73,
   "id": "5daf13e6",
   "metadata": {},
   "outputs": [
    {
     "data": {
      "text/plain": [
       "array([5, 1, 4, 3, 2, '4', '5', '2', '3', '1'], dtype=object)"
      ]
     },
     "execution_count": 73,
     "metadata": {},
     "output_type": "execute_result"
    }
   ],
   "source": [
    "df1[\"star_rating\"].unique()"
   ]
  },
  {
   "cell_type": "code",
   "execution_count": 74,
   "id": "75619977",
   "metadata": {},
   "outputs": [],
   "source": [
    "def star(x):\n",
    "    if x=='4':\n",
    "        return(4)\n",
    "    elif x=='5':\n",
    "        return(5)\n",
    "    elif x=='2':\n",
    "        return(2)\n",
    "    elif x=='3':\n",
    "        return(3)\n",
    "    elif x=='1':\n",
    "        return(1)\n",
    "    else:\n",
    "        return(x)"
   ]
  },
  {
   "cell_type": "code",
   "execution_count": 75,
   "id": "e60b9ecb",
   "metadata": {},
   "outputs": [],
   "source": [
    "df1[\"star_rating\"]=df1[\"star_rating\"].apply(star)"
   ]
  },
  {
   "cell_type": "code",
   "execution_count": 76,
   "id": "6113a840",
   "metadata": {},
   "outputs": [],
   "source": [
    "df1[\"star_rating\"]=df1[\"star_rating\"].astype(int)"
   ]
  },
  {
   "cell_type": "code",
   "execution_count": 77,
   "id": "5d90fd1c",
   "metadata": {},
   "outputs": [
    {
     "data": {
      "text/plain": [
       "array([5, 1, 4, 3, 2])"
      ]
     },
     "execution_count": 77,
     "metadata": {},
     "output_type": "execute_result"
    }
   ],
   "source": [
    "df1[\"star_rating\"].unique()"
   ]
  },
  {
   "cell_type": "code",
   "execution_count": 78,
   "id": "0d0ca17a",
   "metadata": {},
   "outputs": [],
   "source": [
    "df2=df1[(df1[\"star_rating\"]!=3)]"
   ]
  },
  {
   "cell_type": "code",
   "execution_count": 79,
   "id": "3c3323b0",
   "metadata": {},
   "outputs": [
    {
     "data": {
      "text/plain": [
       "(1607094, 2)"
      ]
     },
     "execution_count": 79,
     "metadata": {},
     "output_type": "execute_result"
    }
   ],
   "source": [
    "df2.shape"
   ]
  },
  {
   "cell_type": "code",
   "execution_count": 80,
   "id": "857ebf3e",
   "metadata": {},
   "outputs": [],
   "source": [
    "def star_rating(x):\n",
    "    if x<=2:\n",
    "        return(0)\n",
    "    else:\n",
    "        return(1)"
   ]
  },
  {
   "cell_type": "code",
   "execution_count": 81,
   "id": "936681ba",
   "metadata": {},
   "outputs": [],
   "source": [
    "df2[\"star_rating\"]=df2[\"star_rating\"].apply(star_rating)"
   ]
  },
  {
   "cell_type": "code",
   "execution_count": 82,
   "id": "626450cb",
   "metadata": {},
   "outputs": [
    {
     "data": {
      "text/html": [
       "<div>\n",
       "<style scoped>\n",
       "    .dataframe tbody tr th:only-of-type {\n",
       "        vertical-align: middle;\n",
       "    }\n",
       "\n",
       "    .dataframe tbody tr th {\n",
       "        vertical-align: top;\n",
       "    }\n",
       "\n",
       "    .dataframe thead th {\n",
       "        text-align: right;\n",
       "    }\n",
       "</style>\n",
       "<table border=\"1\" class=\"dataframe\">\n",
       "  <thead>\n",
       "    <tr style=\"text-align: right;\">\n",
       "      <th></th>\n",
       "      <th>star_rating</th>\n",
       "      <th>review_body</th>\n",
       "    </tr>\n",
       "  </thead>\n",
       "  <tbody>\n",
       "    <tr>\n",
       "      <th>0</th>\n",
       "      <td>1</td>\n",
       "      <td>so beautiful even tho clearly not high end ......</td>\n",
       "    </tr>\n",
       "    <tr>\n",
       "      <th>1</th>\n",
       "      <td>1</td>\n",
       "      <td>Great product.. I got this set for my mother, ...</td>\n",
       "    </tr>\n",
       "    <tr>\n",
       "      <th>2</th>\n",
       "      <td>1</td>\n",
       "      <td>Exactly as pictured and my daughter's friend l...</td>\n",
       "    </tr>\n",
       "    <tr>\n",
       "      <th>3</th>\n",
       "      <td>1</td>\n",
       "      <td>Love it. Fits great. Super comfortable and nea...</td>\n",
       "    </tr>\n",
       "    <tr>\n",
       "      <th>4</th>\n",
       "      <td>1</td>\n",
       "      <td>Got this as a Mother's Day gift for my Mom and...</td>\n",
       "    </tr>\n",
       "  </tbody>\n",
       "</table>\n",
       "</div>"
      ],
      "text/plain": [
       "   star_rating                                        review_body\n",
       "0            1  so beautiful even tho clearly not high end ......\n",
       "1            1  Great product.. I got this set for my mother, ...\n",
       "2            1  Exactly as pictured and my daughter's friend l...\n",
       "3            1  Love it. Fits great. Super comfortable and nea...\n",
       "4            1  Got this as a Mother's Day gift for my Mom and..."
      ]
     },
     "execution_count": 82,
     "metadata": {},
     "output_type": "execute_result"
    }
   ],
   "source": [
    "df2.head()"
   ]
  },
  {
   "cell_type": "code",
   "execution_count": null,
   "id": "42c1e95c",
   "metadata": {},
   "outputs": [],
   "source": []
  },
  {
   "cell_type": "code",
   "execution_count": 83,
   "id": "2beefb99",
   "metadata": {},
   "outputs": [
    {
     "data": {
      "text/plain": [
       "0    25000\n",
       "1    25000\n",
       "Name: star_rating, dtype: int64"
      ]
     },
     "metadata": {},
     "output_type": "display_data"
    },
    {
     "data": {
      "text/html": [
       "<div>\n",
       "<style scoped>\n",
       "    .dataframe tbody tr th:only-of-type {\n",
       "        vertical-align: middle;\n",
       "    }\n",
       "\n",
       "    .dataframe tbody tr th {\n",
       "        vertical-align: top;\n",
       "    }\n",
       "\n",
       "    .dataframe thead th {\n",
       "        text-align: right;\n",
       "    }\n",
       "</style>\n",
       "<table border=\"1\" class=\"dataframe\">\n",
       "  <thead>\n",
       "    <tr style=\"text-align: right;\">\n",
       "      <th></th>\n",
       "      <th>star_rating</th>\n",
       "      <th>review_body</th>\n",
       "    </tr>\n",
       "  </thead>\n",
       "  <tbody>\n",
       "    <tr>\n",
       "      <th>0</th>\n",
       "      <td>0</td>\n",
       "      <td>The leather was paper thin and the snaps were ...</td>\n",
       "    </tr>\n",
       "    <tr>\n",
       "      <th>1</th>\n",
       "      <td>0</td>\n",
       "      <td>They were way to small and would not work for ...</td>\n",
       "    </tr>\n",
       "    <tr>\n",
       "      <th>2</th>\n",
       "      <td>0</td>\n",
       "      <td>The stone fell off the ring as soon as I opene...</td>\n",
       "    </tr>\n",
       "    <tr>\n",
       "      <th>3</th>\n",
       "      <td>0</td>\n",
       "      <td>Doesn't stay on at all😥</td>\n",
       "    </tr>\n",
       "    <tr>\n",
       "      <th>4</th>\n",
       "      <td>0</td>\n",
       "      <td>Found black tarnish on the clasp and all over ...</td>\n",
       "    </tr>\n",
       "    <tr>\n",
       "      <th>...</th>\n",
       "      <td>...</td>\n",
       "      <td>...</td>\n",
       "    </tr>\n",
       "    <tr>\n",
       "      <th>49995</th>\n",
       "      <td>1</td>\n",
       "      <td>The ring is just so gorgeous. I can't believe ...</td>\n",
       "    </tr>\n",
       "    <tr>\n",
       "      <th>49996</th>\n",
       "      <td>1</td>\n",
       "      <td>Nice for the price</td>\n",
       "    </tr>\n",
       "    <tr>\n",
       "      <th>49997</th>\n",
       "      <td>1</td>\n",
       "      <td>The ring looks wonderful, exactly what I am lo...</td>\n",
       "    </tr>\n",
       "    <tr>\n",
       "      <th>49998</th>\n",
       "      <td>1</td>\n",
       "      <td>This ring is very simple, which is exactly wha...</td>\n",
       "    </tr>\n",
       "    <tr>\n",
       "      <th>49999</th>\n",
       "      <td>1</td>\n",
       "      <td>I didn't want to buy these only because there ...</td>\n",
       "    </tr>\n",
       "  </tbody>\n",
       "</table>\n",
       "<p>50000 rows × 2 columns</p>\n",
       "</div>"
      ],
      "text/plain": [
       "       star_rating                                        review_body\n",
       "0                0  The leather was paper thin and the snaps were ...\n",
       "1                0  They were way to small and would not work for ...\n",
       "2                0  The stone fell off the ring as soon as I opene...\n",
       "3                0                            Doesn't stay on at all😥\n",
       "4                0  Found black tarnish on the clasp and all over ...\n",
       "...            ...                                                ...\n",
       "49995            1  The ring is just so gorgeous. I can't believe ...\n",
       "49996            1                                 Nice for the price\n",
       "49997            1  The ring looks wonderful, exactly what I am lo...\n",
       "49998            1  This ring is very simple, which is exactly wha...\n",
       "49999            1  I didn't want to buy these only because there ...\n",
       "\n",
       "[50000 rows x 2 columns]"
      ]
     },
     "execution_count": 83,
     "metadata": {},
     "output_type": "execute_result"
    }
   ],
   "source": [
    "df2=df2.sample(frac=1).reset_index(drop=True)\n",
    "data=df2[df2[\"star_rating\"]==0][:25000]\n",
    "data=data.append(df2[df2[\"star_rating\"]==1][:25000])\n",
    "data=data.reset_index(drop=True)\n",
    "display(data[\"star_rating\"].value_counts())\n",
    "data"
   ]
  },
  {
   "cell_type": "code",
   "execution_count": 84,
   "id": "75c48de4",
   "metadata": {},
   "outputs": [],
   "source": [
    "#Cleaning review column"
   ]
  },
  {
   "cell_type": "code",
   "execution_count": 85,
   "id": "4fee341c",
   "metadata": {},
   "outputs": [],
   "source": [
    "data[\"review_body\"]=data['review_body'].apply(lambda x:\" \".join([x for x in x.split(\" \") if len(x)>2]))"
   ]
  },
  {
   "cell_type": "code",
   "execution_count": null,
   "id": "25c5fed3",
   "metadata": {},
   "outputs": [],
   "source": []
  },
  {
   "cell_type": "code",
   "execution_count": 86,
   "id": "59f63a84",
   "metadata": {},
   "outputs": [],
   "source": [
    "import re\n",
    "def clean_html(x):\n",
    "    clean = re.compile('<.*?>')\n",
    "    return re.sub(clean, '', x)"
   ]
  },
  {
   "cell_type": "code",
   "execution_count": 87,
   "id": "b62c6365",
   "metadata": {},
   "outputs": [],
   "source": [
    "data[\"review_body\"]=data[\"review_body\"].apply(clean_html)"
   ]
  },
  {
   "cell_type": "code",
   "execution_count": null,
   "id": "f446e400",
   "metadata": {},
   "outputs": [],
   "source": []
  },
  {
   "cell_type": "code",
   "execution_count": 88,
   "id": "06646c87",
   "metadata": {},
   "outputs": [],
   "source": [
    "def convert_lower(X):\n",
    "    return X.lower()"
   ]
  },
  {
   "cell_type": "code",
   "execution_count": 89,
   "id": "e0089c18",
   "metadata": {},
   "outputs": [],
   "source": [
    "data[\"review_body\"]=data[\"review_body\"].apply(convert_lower)"
   ]
  },
  {
   "cell_type": "code",
   "execution_count": null,
   "id": "8205ad06",
   "metadata": {},
   "outputs": [],
   "source": []
  },
  {
   "cell_type": "code",
   "execution_count": null,
   "id": "7954ebc9",
   "metadata": {},
   "outputs": [],
   "source": []
  },
  {
   "cell_type": "code",
   "execution_count": 90,
   "id": "717b4acd",
   "metadata": {},
   "outputs": [],
   "source": [
    "def remove_special(y):\n",
    "    x=''\n",
    "    \n",
    "    for i in y:\n",
    "        if i.isalnum():\n",
    "            x=x+i\n",
    "        else:\n",
    "            x=x+' '\n",
    "    return x"
   ]
  },
  {
   "cell_type": "code",
   "execution_count": 91,
   "id": "976ebc14",
   "metadata": {},
   "outputs": [],
   "source": [
    "data[\"review_body\"]=data[\"review_body\"].apply(remove_special)"
   ]
  },
  {
   "cell_type": "code",
   "execution_count": null,
   "id": "e14440a3",
   "metadata": {},
   "outputs": [],
   "source": []
  },
  {
   "cell_type": "code",
   "execution_count": 92,
   "id": "4847bd62",
   "metadata": {},
   "outputs": [],
   "source": [
    "import nltk\n",
    "from nltk.corpus import stopwords"
   ]
  },
  {
   "cell_type": "code",
   "execution_count": 93,
   "id": "6043c2f4",
   "metadata": {},
   "outputs": [],
   "source": [
    "def remove_stopwords(text):\n",
    "    x=[]\n",
    "    for i in text.split():\n",
    "        if i not in stopwords.words(\"english\"):\n",
    "            x.append(i)\n",
    "    y=x[:]                             #making new list putting all x into y\n",
    "    x.clear()                          #clearing x for next loop\n",
    "    return y    "
   ]
  },
  {
   "cell_type": "code",
   "execution_count": 94,
   "id": "b28c75b9",
   "metadata": {},
   "outputs": [],
   "source": [
    "data[\"review_body\"]=data[\"review_body\"].apply(remove_stopwords)"
   ]
  },
  {
   "cell_type": "code",
   "execution_count": 95,
   "id": "026a3715",
   "metadata": {},
   "outputs": [],
   "source": [
    "from nltk.stem import WordNetLemmatizer\n",
    "lematizer=WordNetLemmatizer()"
   ]
  },
  {
   "cell_type": "code",
   "execution_count": 96,
   "id": "fb3766bd",
   "metadata": {},
   "outputs": [],
   "source": [
    "def lematize_words(text):\n",
    "    y=[]\n",
    "    for i in text:\n",
    "        y.append(lematizer.lemmatize(i))\n",
    "    z=y[:]\n",
    "    y.clear()\n",
    "    return z"
   ]
  },
  {
   "cell_type": "code",
   "execution_count": 97,
   "id": "f6768313",
   "metadata": {},
   "outputs": [],
   "source": [
    "data[\"review_body\"]=data[\"review_body\"].apply(lematize_words)"
   ]
  },
  {
   "cell_type": "code",
   "execution_count": null,
   "id": "cf3a5efe",
   "metadata": {},
   "outputs": [],
   "source": []
  },
  {
   "cell_type": "code",
   "execution_count": null,
   "id": "ad68a21f",
   "metadata": {},
   "outputs": [],
   "source": []
  },
  {
   "cell_type": "code",
   "execution_count": 98,
   "id": "0de0d514",
   "metadata": {},
   "outputs": [],
   "source": [
    "def join_back(list_input):\n",
    "    return \" \".join(list_input)\n",
    "    "
   ]
  },
  {
   "cell_type": "code",
   "execution_count": 99,
   "id": "9fb20866",
   "metadata": {},
   "outputs": [],
   "source": [
    "data[\"review_body\"]=data[\"review_body\"].apply(join_back)"
   ]
  },
  {
   "cell_type": "code",
   "execution_count": 100,
   "id": "166fa589",
   "metadata": {},
   "outputs": [
    {
     "data": {
      "text/html": [
       "<div>\n",
       "<style scoped>\n",
       "    .dataframe tbody tr th:only-of-type {\n",
       "        vertical-align: middle;\n",
       "    }\n",
       "\n",
       "    .dataframe tbody tr th {\n",
       "        vertical-align: top;\n",
       "    }\n",
       "\n",
       "    .dataframe thead th {\n",
       "        text-align: right;\n",
       "    }\n",
       "</style>\n",
       "<table border=\"1\" class=\"dataframe\">\n",
       "  <thead>\n",
       "    <tr style=\"text-align: right;\">\n",
       "      <th></th>\n",
       "      <th>star_rating</th>\n",
       "      <th>review_body</th>\n",
       "    </tr>\n",
       "  </thead>\n",
       "  <tbody>\n",
       "    <tr>\n",
       "      <th>0</th>\n",
       "      <td>0</td>\n",
       "      <td>leather paper thin snap difficult pry apart me...</td>\n",
       "    </tr>\n",
       "    <tr>\n",
       "      <th>1</th>\n",
       "      <td>0</td>\n",
       "      <td>way small would work lip piercing</td>\n",
       "    </tr>\n",
       "    <tr>\n",
       "      <th>2</th>\n",
       "      <td>0</td>\n",
       "      <td>stone fell ring soon opened package</td>\n",
       "    </tr>\n",
       "    <tr>\n",
       "      <th>3</th>\n",
       "      <td>0</td>\n",
       "      <td>stay</td>\n",
       "    </tr>\n",
       "    <tr>\n",
       "      <th>4</th>\n",
       "      <td>0</td>\n",
       "      <td>found black tarnish clasp chain right box seem...</td>\n",
       "    </tr>\n",
       "    <tr>\n",
       "      <th>...</th>\n",
       "      <td>...</td>\n",
       "      <td>...</td>\n",
       "    </tr>\n",
       "    <tr>\n",
       "      <th>49995</th>\n",
       "      <td>1</td>\n",
       "      <td>ring gorgeous believe sparkle husband love</td>\n",
       "    </tr>\n",
       "    <tr>\n",
       "      <th>49996</th>\n",
       "      <td>1</td>\n",
       "      <td>nice price</td>\n",
       "    </tr>\n",
       "    <tr>\n",
       "      <th>49997</th>\n",
       "      <td>1</td>\n",
       "      <td>ring look wonderful exactly looking cannot see...</td>\n",
       "    </tr>\n",
       "    <tr>\n",
       "      <th>49998</th>\n",
       "      <td>1</td>\n",
       "      <td>ring simple exactly wanted want take anything ...</td>\n",
       "    </tr>\n",
       "    <tr>\n",
       "      <th>49999</th>\n",
       "      <td>1</td>\n",
       "      <td>want buy many review happy went ahead purchase...</td>\n",
       "    </tr>\n",
       "  </tbody>\n",
       "</table>\n",
       "<p>50000 rows × 2 columns</p>\n",
       "</div>"
      ],
      "text/plain": [
       "       star_rating                                        review_body\n",
       "0                0  leather paper thin snap difficult pry apart me...\n",
       "1                0                  way small would work lip piercing\n",
       "2                0                stone fell ring soon opened package\n",
       "3                0                                               stay\n",
       "4                0  found black tarnish clasp chain right box seem...\n",
       "...            ...                                                ...\n",
       "49995            1         ring gorgeous believe sparkle husband love\n",
       "49996            1                                         nice price\n",
       "49997            1  ring look wonderful exactly looking cannot see...\n",
       "49998            1  ring simple exactly wanted want take anything ...\n",
       "49999            1  want buy many review happy went ahead purchase...\n",
       "\n",
       "[50000 rows x 2 columns]"
      ]
     },
     "execution_count": 100,
     "metadata": {},
     "output_type": "execute_result"
    }
   ],
   "source": [
    "data"
   ]
  },
  {
   "cell_type": "code",
   "execution_count": null,
   "id": "a57954a3",
   "metadata": {},
   "outputs": [],
   "source": [
    "    "
   ]
  },
  {
   "cell_type": "code",
   "execution_count": 101,
   "id": "baaeac26",
   "metadata": {},
   "outputs": [],
   "source": [
    "from sklearn.feature_extraction.text import CountVectorizer"
   ]
  },
  {
   "cell_type": "code",
   "execution_count": 102,
   "id": "c8253c93",
   "metadata": {},
   "outputs": [],
   "source": [
    "vect=CountVectorizer()"
   ]
  },
  {
   "cell_type": "code",
   "execution_count": 103,
   "id": "2988bb6b",
   "metadata": {},
   "outputs": [],
   "source": [
    "X=vect.fit_transform(data[\"review_body\"])"
   ]
  },
  {
   "cell_type": "code",
   "execution_count": 104,
   "id": "601bcf7f",
   "metadata": {},
   "outputs": [
    {
     "data": {
      "text/plain": [
       "(50000, 20320)"
      ]
     },
     "execution_count": 104,
     "metadata": {},
     "output_type": "execute_result"
    }
   ],
   "source": [
    "X.shape"
   ]
  },
  {
   "cell_type": "code",
   "execution_count": 105,
   "id": "879e5e93",
   "metadata": {},
   "outputs": [],
   "source": [
    "X=X.astype(\"uint8\")"
   ]
  },
  {
   "cell_type": "code",
   "execution_count": 106,
   "id": "ec43e743",
   "metadata": {},
   "outputs": [],
   "source": [
    "X1=X.toarray()"
   ]
  },
  {
   "cell_type": "code",
   "execution_count": 107,
   "id": "65b74567",
   "metadata": {},
   "outputs": [],
   "source": [
    "y=data.iloc[:,0]"
   ]
  },
  {
   "cell_type": "code",
   "execution_count": 108,
   "id": "da205c8f",
   "metadata": {},
   "outputs": [
    {
     "data": {
      "text/plain": [
       "(50000,)"
      ]
     },
     "execution_count": 108,
     "metadata": {},
     "output_type": "execute_result"
    }
   ],
   "source": [
    "y.shape"
   ]
  },
  {
   "cell_type": "code",
   "execution_count": 109,
   "id": "25833e4d",
   "metadata": {},
   "outputs": [],
   "source": [
    "from sklearn.model_selection import train_test_split\n",
    "X1_train,X1_test,y_train,y_test=train_test_split(X1,y,test_size=0.20,random_state=18)"
   ]
  },
  {
   "cell_type": "code",
   "execution_count": 110,
   "id": "f8d950ed",
   "metadata": {},
   "outputs": [],
   "source": [
    "from sklearn.naive_bayes import MultinomialNB,BernoulliNB"
   ]
  },
  {
   "cell_type": "code",
   "execution_count": 111,
   "id": "62dfd33a",
   "metadata": {},
   "outputs": [],
   "source": [
    "clf2=MultinomialNB()\n",
    "clf3=BernoulliNB()"
   ]
  },
  {
   "cell_type": "code",
   "execution_count": 113,
   "id": "774b20e9",
   "metadata": {},
   "outputs": [
    {
     "data": {
      "text/html": [
       "<style>#sk-container-id-1 {color: black;background-color: white;}#sk-container-id-1 pre{padding: 0;}#sk-container-id-1 div.sk-toggleable {background-color: white;}#sk-container-id-1 label.sk-toggleable__label {cursor: pointer;display: block;width: 100%;margin-bottom: 0;padding: 0.3em;box-sizing: border-box;text-align: center;}#sk-container-id-1 label.sk-toggleable__label-arrow:before {content: \"▸\";float: left;margin-right: 0.25em;color: #696969;}#sk-container-id-1 label.sk-toggleable__label-arrow:hover:before {color: black;}#sk-container-id-1 div.sk-estimator:hover label.sk-toggleable__label-arrow:before {color: black;}#sk-container-id-1 div.sk-toggleable__content {max-height: 0;max-width: 0;overflow: hidden;text-align: left;background-color: #f0f8ff;}#sk-container-id-1 div.sk-toggleable__content pre {margin: 0.2em;color: black;border-radius: 0.25em;background-color: #f0f8ff;}#sk-container-id-1 input.sk-toggleable__control:checked~div.sk-toggleable__content {max-height: 200px;max-width: 100%;overflow: auto;}#sk-container-id-1 input.sk-toggleable__control:checked~label.sk-toggleable__label-arrow:before {content: \"▾\";}#sk-container-id-1 div.sk-estimator input.sk-toggleable__control:checked~label.sk-toggleable__label {background-color: #d4ebff;}#sk-container-id-1 div.sk-label input.sk-toggleable__control:checked~label.sk-toggleable__label {background-color: #d4ebff;}#sk-container-id-1 input.sk-hidden--visually {border: 0;clip: rect(1px 1px 1px 1px);clip: rect(1px, 1px, 1px, 1px);height: 1px;margin: -1px;overflow: hidden;padding: 0;position: absolute;width: 1px;}#sk-container-id-1 div.sk-estimator {font-family: monospace;background-color: #f0f8ff;border: 1px dotted black;border-radius: 0.25em;box-sizing: border-box;margin-bottom: 0.5em;}#sk-container-id-1 div.sk-estimator:hover {background-color: #d4ebff;}#sk-container-id-1 div.sk-parallel-item::after {content: \"\";width: 100%;border-bottom: 1px solid gray;flex-grow: 1;}#sk-container-id-1 div.sk-label:hover label.sk-toggleable__label {background-color: #d4ebff;}#sk-container-id-1 div.sk-serial::before {content: \"\";position: absolute;border-left: 1px solid gray;box-sizing: border-box;top: 0;bottom: 0;left: 50%;z-index: 0;}#sk-container-id-1 div.sk-serial {display: flex;flex-direction: column;align-items: center;background-color: white;padding-right: 0.2em;padding-left: 0.2em;position: relative;}#sk-container-id-1 div.sk-item {position: relative;z-index: 1;}#sk-container-id-1 div.sk-parallel {display: flex;align-items: stretch;justify-content: center;background-color: white;position: relative;}#sk-container-id-1 div.sk-item::before, #sk-container-id-1 div.sk-parallel-item::before {content: \"\";position: absolute;border-left: 1px solid gray;box-sizing: border-box;top: 0;bottom: 0;left: 50%;z-index: -1;}#sk-container-id-1 div.sk-parallel-item {display: flex;flex-direction: column;z-index: 1;position: relative;background-color: white;}#sk-container-id-1 div.sk-parallel-item:first-child::after {align-self: flex-end;width: 50%;}#sk-container-id-1 div.sk-parallel-item:last-child::after {align-self: flex-start;width: 50%;}#sk-container-id-1 div.sk-parallel-item:only-child::after {width: 0;}#sk-container-id-1 div.sk-dashed-wrapped {border: 1px dashed gray;margin: 0 0.4em 0.5em 0.4em;box-sizing: border-box;padding-bottom: 0.4em;background-color: white;}#sk-container-id-1 div.sk-label label {font-family: monospace;font-weight: bold;display: inline-block;line-height: 1.2em;}#sk-container-id-1 div.sk-label-container {text-align: center;}#sk-container-id-1 div.sk-container {/* jupyter's `normalize.less` sets `[hidden] { display: none; }` but bootstrap.min.css set `[hidden] { display: none !important; }` so we also need the `!important` here to be able to override the default hidden behavior on the sphinx rendered scikit-learn.org. See: https://github.com/scikit-learn/scikit-learn/issues/21755 */display: inline-block !important;position: relative;}#sk-container-id-1 div.sk-text-repr-fallback {display: none;}</style><div id=\"sk-container-id-1\" class=\"sk-top-container\"><div class=\"sk-text-repr-fallback\"><pre>BernoulliNB()</pre><b>In a Jupyter environment, please rerun this cell to show the HTML representation or trust the notebook. <br />On GitHub, the HTML representation is unable to render, please try loading this page with nbviewer.org.</b></div><div class=\"sk-container\" hidden><div class=\"sk-item\"><div class=\"sk-estimator sk-toggleable\"><input class=\"sk-toggleable__control sk-hidden--visually\" id=\"sk-estimator-id-1\" type=\"checkbox\" checked><label for=\"sk-estimator-id-1\" class=\"sk-toggleable__label sk-toggleable__label-arrow\">BernoulliNB</label><div class=\"sk-toggleable__content\"><pre>BernoulliNB()</pre></div></div></div></div></div>"
      ],
      "text/plain": [
       "BernoulliNB()"
      ]
     },
     "execution_count": 113,
     "metadata": {},
     "output_type": "execute_result"
    }
   ],
   "source": [
    "clf2.fit(X1_train,y_train)\n",
    "clf3.fit(X1_train,y_train)"
   ]
  },
  {
   "cell_type": "code",
   "execution_count": 115,
   "id": "d4f48832",
   "metadata": {},
   "outputs": [],
   "source": [
    "y_train_predict2=clf2.predict(X1_train)\n",
    "y_test_predict2=clf2.predict(X1_test) "
   ]
  },
  {
   "cell_type": "code",
   "execution_count": 116,
   "id": "5767e127",
   "metadata": {},
   "outputs": [],
   "source": [
    "y_train_predict3=clf3.predict(X1_train)\n",
    "y_test_predict3=clf3.predict(X1_test)    "
   ]
  },
  {
   "cell_type": "code",
   "execution_count": 118,
   "id": "2de163ed",
   "metadata": {},
   "outputs": [],
   "source": [
    "from sklearn.metrics import classification_report"
   ]
  },
  {
   "cell_type": "code",
   "execution_count": null,
   "id": "c94bb085",
   "metadata": {},
   "outputs": [],
   "source": []
  },
  {
   "cell_type": "code",
   "execution_count": 120,
   "id": "ba1d6ab7",
   "metadata": {},
   "outputs": [
    {
     "name": "stdout",
     "output_type": "stream",
     "text": [
      "*****************************MultinomialNB***************************\n",
      "\n",
      "Train Data\n",
      "              precision    recall  f1-score   support\n",
      "\n",
      "           0       0.93      0.91      0.92     20029\n",
      "           1       0.91      0.93      0.92     19971\n",
      "\n",
      "    accuracy                           0.92     40000\n",
      "   macro avg       0.92      0.92      0.92     40000\n",
      "weighted avg       0.92      0.92      0.92     40000\n",
      "\n",
      "Test Data\n",
      "              precision    recall  f1-score   support\n",
      "\n",
      "           0       0.92      0.89      0.90      4971\n",
      "           1       0.89      0.92      0.91      5029\n",
      "\n",
      "    accuracy                           0.90     10000\n",
      "   macro avg       0.90      0.90      0.90     10000\n",
      "weighted avg       0.90      0.90      0.90     10000\n",
      "\n"
     ]
    }
   ],
   "source": [
    "print(\"*****************************MultinomialNB***************************\\n\")\n",
    "print(\"Train Data\")\n",
    "print(classification_report(y_train,y_train_predict2))\n",
    "print(\"Test Data\")\n",
    "print(classification_report(y_test,y_test_predict2))"
   ]
  },
  {
   "cell_type": "code",
   "execution_count": null,
   "id": "d890110d",
   "metadata": {},
   "outputs": [],
   "source": []
  },
  {
   "cell_type": "code",
   "execution_count": 121,
   "id": "0c0e460f",
   "metadata": {},
   "outputs": [
    {
     "name": "stdout",
     "output_type": "stream",
     "text": [
      "*****************************BernoulliNB***************************\n",
      "\n",
      "Train Data\n",
      "              precision    recall  f1-score   support\n",
      "\n",
      "           0       0.93      0.85      0.89     20029\n",
      "           1       0.87      0.94      0.90     19971\n",
      "\n",
      "    accuracy                           0.89     40000\n",
      "   macro avg       0.90      0.89      0.89     40000\n",
      "weighted avg       0.90      0.89      0.89     40000\n",
      "\n",
      "Test Data\n",
      "              precision    recall  f1-score   support\n",
      "\n",
      "           0       0.91      0.83      0.87      4971\n",
      "           1       0.85      0.92      0.88      5029\n",
      "\n",
      "    accuracy                           0.88     10000\n",
      "   macro avg       0.88      0.88      0.88     10000\n",
      "weighted avg       0.88      0.88      0.88     10000\n",
      "\n"
     ]
    }
   ],
   "source": [
    "print(\"*****************************BernoulliNB***************************\\n\")\n",
    "print(\"Train Data\")\n",
    "print(classification_report(y_train,y_train_predict3))\n",
    "print(\"Test Data\")\n",
    "print(classification_report(y_test,y_test_predict3))"
   ]
  },
  {
   "cell_type": "code",
   "execution_count": null,
   "id": "6181700a",
   "metadata": {},
   "outputs": [],
   "source": []
  }
 ],
 "metadata": {
  "kernelspec": {
   "display_name": "Python 3 (ipykernel)",
   "language": "python",
   "name": "python3"
  },
  "language_info": {
   "codemirror_mode": {
    "name": "ipython",
    "version": 3
   },
   "file_extension": ".py",
   "mimetype": "text/x-python",
   "name": "python",
   "nbconvert_exporter": "python",
   "pygments_lexer": "ipython3",
   "version": "3.10.5"
  }
 },
 "nbformat": 4,
 "nbformat_minor": 5
}
